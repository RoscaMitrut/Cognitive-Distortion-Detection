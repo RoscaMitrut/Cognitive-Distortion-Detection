{
 "cells": [
  {
   "cell_type": "code",
   "execution_count": null,
   "metadata": {},
   "outputs": [],
   "source": [
    "import pandas as pd\n",
    "from sklearn.model_selection import train_test_split\n",
    "import tensorflow as tf\n",
    "import tensorflow_hub as hub\n",
    "import tensorflow_text\n",
    "from matplotlib import pyplot as plt\n",
    "import seaborn as sn\n",
    "from sklearn.metrics import confusion_matrix, classification_report\n",
    "import numpy as np"
   ]
  },
  {
   "cell_type": "code",
   "execution_count": null,
   "metadata": {},
   "outputs": [],
   "source": [
    "def plot_train_val_data(model,labels,validation=False):\n",
    "\tfig_size_w = len(labels)\n",
    " \n",
    "\tif isinstance(model,list):\n",
    "\t\tistoric = merge_history(model)\n",
    "\t\tif validation == True:\n",
    "\t\t\tval_to_plot = [istoric[\"val_\"+el] for el in labels]\n",
    "\t\tto_plot = [istoric[el] for el in labels]\n",
    "\telse:\n",
    "\t\tif validation == True:\n",
    "\t\t\tval_to_plot = [model.history[\"val_\"+el] for el in labels]\n",
    "\t\tto_plot = [model.history[el] for el in labels]\n",
    "\n",
    "\tepochs = range(1, len(to_plot[0]) + 1)\n",
    "\n",
    "\tfig, axes = plt.subplots(1, fig_size_w,figsize=(20, 5))\n",
    "\tfig.tight_layout() \n",
    "\tfor i in range(0, fig_size_w):\n",
    "\t\taxes[i].plot(epochs, to_plot[i], '-', label=labels[i])\n",
    "\t\tif(validation == True):\n",
    "\t\t\taxes[i].plot(epochs, val_to_plot[i], ':', label=\"Validation \"+labels[i])\n",
    "\t\taxes[i].set_title(labels[i],fontsize=20)\n",
    "\t\taxes[i].legend(loc='lower right')\n",
    "\n",
    "\tplt.show()"
   ]
  },
  {
   "cell_type": "code",
   "execution_count": null,
   "metadata": {},
   "outputs": [],
   "source": [
    "therapis_responses = pd.read_csv(\"../data/Therapist_responses.csv\",delimiter=\",\")\n",
    "annotated_data = pd.read_csv(\"../data/Annotated_data.csv\",delimiter=\",\")\n",
    "annotated_data_copy = pd.merge(therapis_responses,annotated_data,on='Id_Number')\n",
    "annotated_data_copy = annotated_data_copy.drop(['Question'],axis=1)\n",
    "\n",
    "import nltk\n",
    "from nltk.tokenize import word_tokenize\n",
    "from nltk.corpus import stopwords\n",
    "nltk.download('stopwords')\n",
    "\n",
    "def remove_stop_words(text):\n",
    "    text = word_tokenize(text.lower())\n",
    "    stop_words = set(stopwords.words('english'))\n",
    "    text = [word for word in text if word.isalpha() and not word in stop_words]\n",
    "    return ' '.join(text)\n",
    "\n",
    "texts = annotated_data_copy[\"Patient Question\"].tolist()\n",
    "\n",
    "sentences = list(map(remove_stop_words,texts))\n",
    "\n",
    "def label_distorsion_binary(row):\n",
    "    if row[\"Dominant Distortion\"] == \"No Distortion\":\n",
    "        return 0\n",
    "    return 1\n",
    "\n",
    "annotated_data_copy[\"Distortion\"] = annotated_data_copy.apply(label_distorsion_binary, axis=1)\n",
    "\n",
    "distortions = annotated_data_copy[\"Distortion\"].tolist()"
   ]
  },
  {
   "cell_type": "code",
   "execution_count": null,
   "metadata": {},
   "outputs": [],
   "source": [
    "X_train, X_test, Y_train, Y_test = train_test_split(sentences, distortions)"
   ]
  },
  {
   "cell_type": "code",
   "execution_count": null,
   "metadata": {},
   "outputs": [],
   "source": [
    "preprocess_link = \"https://kaggle.com/models/tensorflow/bert/TensorFlow2/en-uncased-preprocess/3\"\n",
    "encoder_link = \"https://www.kaggle.com/models/tensorflow/bert/TensorFlow2/en-uncased-l-12-h-768-a-12/4\"\n",
    "\n",
    "preprocessor = hub.KerasLayer(preprocess_link)\n",
    "encoder = hub.KerasLayer(encoder_link)"
   ]
  },
  {
   "cell_type": "code",
   "execution_count": null,
   "metadata": {},
   "outputs": [],
   "source": [
    "def get_embedings_sentences(sentences):\n",
    "\tpreprocessed_text = preprocessor(sentences)\n",
    "\treturn encoder(preprocessed_text)[\"pooled_output\"]\n",
    "\t#return encoder(preprocessed_text)[\"sequence_output\"]\n",
    " \n",
    "get_embedings_sentences([\"Hello fellow humans!\"]) "
   ]
  },
  {
   "cell_type": "code",
   "execution_count": null,
   "metadata": {},
   "outputs": [],
   "source": [
    "base_model = MobileNet(weights='imagenet')\n",
    "\n",
    "text_input = tf.keras.layers.Input(shape=(),dtype=tf.string,name=\"text\")\n",
    "preprocessed_text = preprocessor(text_input)\n",
    "outputs = encoder(preprocessed_text)\n",
    "\n",
    "x = base_model.output\n",
    "\n",
    "layer = tf.keras.layers.Dense(10,activation=\"relu\")(outputs[\"pooled_output\"])\n",
    "layer = tf.keras.layers.Dropout(0.25,name=\"dropout\")(layer)\n",
    "preds = tf.keras.layers.Dense(1,activation=\"sigmoid\",name=\"output\")(layer)\n",
    "#Model\n",
    "model = tf.keras.Model(inputs=[text_input],outputs=[layer])\n",
    "\n",
    "model.summary()"
   ]
  },
  {
   "cell_type": "code",
   "execution_count": null,
   "metadata": {},
   "outputs": [],
   "source": [
    "METRICS = [\n",
    "\ttf.keras.metrics.BinaryAccuracy(name=\"accuracy\"),\n",
    "    tf.keras.metrics.Precision(name='precision'),\n",
    "    tf.keras.metrics.Recall(name='recall')\n",
    "]\n",
    "\n",
    "model.compile(optimizer=\"adam\",\n",
    "              loss=\"binary_crossentropy\",\n",
    "              metrics=METRICS)"
   ]
  },
  {
   "cell_type": "code",
   "execution_count": null,
   "metadata": {},
   "outputs": [],
   "source": [
    "history = model.fit(X_train,Y_train,validation_data=(X_test,Y_test),epochs=10)"
   ]
  },
  {
   "cell_type": "code",
   "execution_count": null,
   "metadata": {},
   "outputs": [],
   "source": [
    "plot_train_val_data(history,[\"accuracy\",\"precision\",\"recall\"],True)"
   ]
  },
  {
   "cell_type": "code",
   "execution_count": null,
   "metadata": {},
   "outputs": [],
   "source": [
    "y_predicted = model.predict(X_test)\n",
    "y_predicted = y_predicted.flatten()\n",
    "y_predicted = np.where(y_predicted > 0.5,1,0)\n",
    "cm = confusion_matrix(Y_test, y_predicted)\n",
    "sn.heatmap(cm, annot=True, fmt='d')\n",
    "plt.xlabel('Predicted')\n",
    "plt.ylabel('Truth')"
   ]
  }
 ],
 "metadata": {
  "language_info": {
   "name": "python"
  }
 },
 "nbformat": 4,
 "nbformat_minor": 2
}
