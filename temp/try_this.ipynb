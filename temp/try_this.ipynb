{
 "cells": [
  {
   "cell_type": "markdown",
   "metadata": {},
   "source": [
    "stopword + tokenize + pad + embedding din tf"
   ]
  },
  {
   "cell_type": "code",
   "execution_count": 21,
   "metadata": {},
   "outputs": [],
   "source": [
    "import nltk\n",
    "import pandas as pd\n",
    "from textblob import Word\n",
    "from nltk.corpus import stopwords\n",
    "from sklearn.preprocessing import LabelEncoder\n",
    "from sklearn.metrics import classification_report,confusion_matrix,accuracy_score\n",
    "from keras.models import Sequential\n",
    "from keras.preprocessing.text import Tokenizer\n",
    "from keras_preprocessing.sequence import pad_sequences\n",
    "from keras.layers import Dense, Embedding, LSTM, SpatialDropout1D\n",
    "from sklearn.model_selection import train_test_split \n",
    "import numpy as np\n",
    "import seaborn as sn\n",
    "import matplotlib.pyplot as plt\n",
    "import nltk\n",
    "nltk.download('wordnet')"
   ]
  },
  {
   "cell_type": "code",
   "execution_count": 3,
   "metadata": {},
   "outputs": [],
   "source": [
    "therapis_responses = pd.read_csv(\"../data/Therapist_responses.csv\",delimiter=\",\")\n",
    "annotated_data = pd.read_csv(\"../data/Annotated_data.csv\",delimiter=\",\")\n",
    "annotated_data_copy = pd.merge(therapis_responses,annotated_data,on='Id_Number')\n",
    "annotated_data_copy = annotated_data_copy.drop(['Question'],axis=1)"
   ]
  },
  {
   "cell_type": "code",
   "execution_count": 4,
   "metadata": {},
   "outputs": [],
   "source": [
    "def label_distorsion_binary(row):\n",
    "    if row[\"Dominant Distortion\"] == \"No Distortion\":\n",
    "        return 0\n",
    "    return 1\n",
    "\n",
    "annotated_data_copy[\"Distortion\"] = annotated_data_copy.apply(label_distorsion_binary, axis=1)"
   ]
  },
  {
   "cell_type": "code",
   "execution_count": 5,
   "metadata": {},
   "outputs": [
    {
     "data": {
      "text/plain": [
       "['Thank you for writing. You did nothing wrong! You did not put this woman in prison. She did it to herself. She befriended, manipulated and abused a vulnerable 14-year-old (actually, two young teens). She is a sexual offender who was grooming you, not loving you. She belongs in jail.This was never an equal or appropriate relationship. As a teacher, she used her position of authority and the fact you were needy and looked up to her as means to draw you in. She was so good at gaslighting you that you believed and still believe that her abuse was love. She did all the classic moves of an abuser: She gained control of you by making you think you were special. She isolated you, making you more and more dependent on her. She created a relationship where you were always on eggshells, trying not to say or do anything that would cause a fight. She created fights anyway and then made you feel like you were at fault. Apologies and presents followed — which only confused you more. Any time that you questioned her or the relationship, she blamed and shamed you. While demanding total loyalty to her, she was disloyal to you.Don’t blame yourself! You are thinking and feeling and acting like many survivors of abuse. You are still confused. You are still taking blame on yourself. Your abuser may be in prison, but she is still in your head.I don’t know why you stopped seeing a psychologist. You do need help to sort this out. An experienced therapist will not judge you. Your feelings are recognizable for what they are — a reaction to prolonged abuse. Sadly, your experience is not unique or as complex as you believe it is. We therapists often, too often, see something like it.Please. Make an appointment with a licensed mental health counselor who specializes in trauma. You have recovery work to do. You deserve to free yourself of the blame and shame so that you can find real love in a real relationship.I wish you well. ',\n",
       " 0,\n",
       " 'From a teen in Australia: This story is incredibly long but I’m going to do my best to cut it down and only include the most important bits. When I was 14 and in a very low place, I met a teacher at my school. She was around 30. I didn’t think much of it at first, but eventually I kept talking to her more and more and seeing her around. We grew close quickly and for some reason I just felt connected to her. One day I received a text message from her as she had gotten my number off another student.',\n",
       " 'We grew close quickly and for some reason I just felt connected to her.',\n",
       " 'Emotional Reasoning',\n",
       " nan,\n",
       " 1]"
      ]
     },
     "execution_count": 5,
     "metadata": {},
     "output_type": "execute_result"
    }
   ],
   "source": [
    "data_list = annotated_data_copy.values.tolist()\n",
    "# 0 = ANSWER   ,   1 = ID   ,   2 = QUESTION   ,   3 = DISTORTED PART   ,\n",
    "# 4 = DOMINANT DISTORTION   ,   5 = SECONDARY DISTORTION   ,   6 = DISTORTION 1/0\n",
    "data_list[0]"
   ]
  },
  {
   "cell_type": "code",
   "execution_count": 6,
   "metadata": {},
   "outputs": [
    {
     "data": {
      "text/plain": [
       "['From a teen in Australia: This story is incredibly long but I’m going to do my best to cut it down and only include the most important bits. When I was 14 and in a very low place, I met a teacher at my school. She was around 30. I didn’t think much of it at first, but eventually I kept talking to her more and more and seeing her around. We grew close quickly and for some reason I just felt connected to her. One day I received a text message from her as she had gotten my number off another student.',\n",
       " 'From a woman in the U.S.: My Therapist of eight months terminated. {new job}.\\xa0 \\xa0I cancelled our final appts: because I could not face her. I had lied to her to test her and ultimately push her away.\\xa0 She knew I think and I believe she felt betrayed.\\xa0 I could tell because our sessions changed… She was in fact pushed away.',\n",
       " 'I don’t even really know where to start. For the past 7 months I’ve been under extreme mounts of stress followed by a few panic attacks, that have left me so emotionally unstable that I feel that I’m teetering on edges of insanity. I’m in constant fear that I might be experience psychosis. I’ve been having hypnagogic hallucinations right before falling asleep that have left me in so much distress. Sometimes I’ll hear a loud sound or different voices that are loud. I’d like to not that I’ve experienced this for most of my life. But since having these panic attacks and just hours on the internet and reading about mental illness it has left me scared that it maybe something more. I’m extremely scared I might be in the beginning stages of schizophrenia. I’ve become hyperaware, I literally am always making sure that I’m not hearing things or seeing things. I just feel so lost and sad all the time I just want to feel whole again. Sorry if this seems a little jumpy I’m just in tears as I type this. I’ve never been diagnosed with anxiety or any anxiety disorder and I fear it may be more than that anyway. I’ve become so afraid of my mind because if I have a weird thought I am constantly ruminating on it and it drives me up the wall. Couple of days ago I literally typed in the same question about schizophrenia 30 different times. I need help but I’m so afraid that the Doctor may confirm my fears. I just don’t know what to do. Is the hyperawareness of sounds, weird thoughts and hypnagogic hallucinations a sign that I’m becoming schizophrenic? I also have a cousin who is schizophrenic and I have an older father so I know I’m at higher risk. I’m in shambles over this. Anything would help. I don’t really know if any of this even makes but please help.',\n",
       " 'From a woman in the UK: Hi, I have a 4 month old baby boy and i have to go back to work when he’s 7 months. I understand that will be a key age for forming secure attachment and i won’t be around for some of every day. i can work from home but not all the time. I’m worried about disruption to our relationship and his attachment. We are breastfeeding, cosleeping and i wear him in a carrier often. He is settled and doing well with this arrangement but of course we will have some distance when I’m back at work. Is there anything i can do to make things easier for my baby? Thank you',\n",
       " 'Me and my sister in law are both pregnant right now. And I’ve been noticing the inconsistency of level of care about our baby from my fiancée side of the fam. This situation really has me depressed, and unsure what to do. for starters my sister in law and that side of the family has made it a competition between the babies, I don’t want it to be a competition. It always who can do what first. Then we notice that their side of the family doing all these things for their baby and not ours.if we happen to go visit them, and someone asks about our baby, someone always brings up the other baby and that the other baby “does it bigger” basically. And they are always all over my sister in laws belly, never once mine. They have literally cried over feeling her belly, never even touched mine once. No one ever asks how my baby is doing. I just want it to be equal, and I don’t know what to do. I need some serious advice. I don’t want this to continue when both the babies are here (which will be very soon), I don’t want my child noticing it either.']"
      ]
     },
     "execution_count": 6,
     "metadata": {},
     "output_type": "execute_result"
    }
   ],
   "source": [
    "#data = pd.read_csv('data.csv')\n",
    "X = [el[2] for el in data_list]\n",
    "X[:5]"
   ]
  },
  {
   "cell_type": "code",
   "execution_count": 7,
   "metadata": {},
   "outputs": [
    {
     "data": {
      "text/plain": [
       "[1, 1, 1, 1, 1, 1, 0, 0, 1, 1]"
      ]
     },
     "execution_count": 7,
     "metadata": {},
     "output_type": "execute_result"
    }
   ],
   "source": [
    "Y = [el[-1] for el in data_list]\n",
    "Y[:10]"
   ]
  },
  {
   "cell_type": "code",
   "execution_count": 8,
   "metadata": {},
   "outputs": [],
   "source": [
    "def cleaning(df, stop_words):\n",
    "    df['Sentence'] = df['Sentence'].apply(lambda x: ' '.join(x.lower() for x in x.split()))\n",
    "    # Replacing the digits/numbers\n",
    "    #df['Sentence'] = df['Sentence'].str.replace('d', '')\n",
    "    # Removing stop words\n",
    "    df['Sentence'] = df['Sentence'].apply(lambda x: ' '.join(x for x in x.split() if x not in stop_words))\n",
    "    # Lemmatization\n",
    "    df['Sentence'] = df['Sentence'].apply(lambda x: ' '.join([Word(x).lemmatize() for x in x.split()]))\n",
    "    return df\n",
    "\n",
    "stop_words = stopwords.words('english')"
   ]
  },
  {
   "cell_type": "code",
   "execution_count": 9,
   "metadata": {},
   "outputs": [],
   "source": [
    "tokenizer = Tokenizer(num_words=500, split=' ') \n",
    "tokenizer.fit_on_texts(X)\n",
    "X = tokenizer.texts_to_sequences(X)\n",
    "X = pad_sequences(X)"
   ]
  },
  {
   "cell_type": "code",
   "execution_count": 10,
   "metadata": {},
   "outputs": [
    {
     "data": {
      "text/plain": [
       "array([[  0,   0,   0, ...,   4, 185, 223],\n",
       "       [  0,   0,   0, ...,  10, 431, 179],\n",
       "       [  0,   0,   0, ...,  15, 274,  79],\n",
       "       ...,\n",
       "       [  0,   0,   0, ...,  23, 316,  17],\n",
       "       [  0,   0,   0, ..., 274,  79,   7],\n",
       "       [  0,   0,   0, ...,  25,  24, 453]])"
      ]
     },
     "execution_count": 10,
     "metadata": {},
     "output_type": "execute_result"
    }
   ],
   "source": [
    "X"
   ]
  },
  {
   "cell_type": "code",
   "execution_count": 11,
   "metadata": {},
   "outputs": [],
   "source": [
    "Y = np.array(Y)"
   ]
  },
  {
   "cell_type": "code",
   "execution_count": 19,
   "metadata": {},
   "outputs": [
    {
     "name": "stdout",
     "output_type": "stream",
     "text": [
      "WARNING:tensorflow:Layer lstm_3 will not use cuDNN kernels since it doesn't meet the criteria. It will use a generic GPU kernel as fallback when running on GPU.\n",
      "Model: \"sequential_3\"\n",
      "_________________________________________________________________\n",
      " Layer (type)                Output Shape              Param #   \n",
      "=================================================================\n",
      " embedding_3 (Embedding)     (None, 789, 100)          50000     \n",
      "                                                                 \n",
      " spatial_dropout1d_3 (Spatia  (None, 789, 100)         0         \n",
      " lDropout1D)                                                     \n",
      "                                                                 \n",
      " lstm_3 (LSTM)               (None, 300)               481200    \n",
      "                                                                 \n",
      " dense_6 (Dense)             (None, 64)                19264     \n",
      "                                                                 \n",
      " dense_7 (Dense)             (None, 1)                 65        \n",
      "                                                                 \n",
      "=================================================================\n",
      "Total params: 550,529\n",
      "Trainable params: 550,529\n",
      "Non-trainable params: 0\n",
      "_________________________________________________________________\n",
      "None\n"
     ]
    }
   ],
   "source": [
    "\n",
    "#Model Building\n",
    "model = Sequential()\n",
    "model.add(Embedding(500, 100, input_length = X.shape[1]))#20=120\n",
    "model.add(SpatialDropout1D(0.4))\n",
    "model.add(LSTM(300, dropout=0.2, recurrent_dropout=0.2))\n",
    "model.add(Dense(64, activation='LeakyReLU'))\n",
    "model.add(Dense(1, activation='sigmoid'))\n",
    "model.compile(loss = 'binary_crossentropy', optimizer='adam', metrics = ['accuracy'])\n",
    "print(model.summary())\n",
    "#Model Training\n",
    "\n",
    "#Model Testing"
   ]
  },
  {
   "cell_type": "code",
   "execution_count": 20,
   "metadata": {},
   "outputs": [
    {
     "name": "stdout",
     "output_type": "stream",
     "text": [
      "Epoch 1/2\n",
      "80/80 [==============================] - 608s 8s/step - loss: 0.6623 - accuracy: 0.6324\n",
      "Epoch 2/2\n",
      "80/80 [==============================] - 601s 8s/step - loss: 0.5920 - accuracy: 0.6881\n"
     ]
    },
    {
     "data": {
      "text/plain": [
       "<keras.callbacks.History at 0x155b5ec0430>"
      ]
     },
     "execution_count": 20,
     "metadata": {},
     "output_type": "execute_result"
    }
   ],
   "source": [
    "model.fit(X, Y, epochs = 2)"
   ]
  },
  {
   "cell_type": "code",
   "execution_count": 22,
   "metadata": {},
   "outputs": [
    {
     "name": "stdout",
     "output_type": "stream",
     "text": [
      "80/80 [==============================] - 92s 1s/step\n"
     ]
    },
    {
     "data": {
      "text/plain": [
       "Text(50.722222222222214, 0.5, 'Truth')"
      ]
     },
     "execution_count": 22,
     "metadata": {},
     "output_type": "execute_result"
    },
    {
     "data": {
      "image/png": "[encoded data removed]",
      "text/plain": [
       "<Figure size 640x480 with 2 Axes>"
      ]
     },
     "metadata": {},
     "output_type": "display_data"
    }
   ],
   "source": [
    "y_predicted = model.predict(X)\n",
    "y_predicted = y_predicted.flatten()\n",
    "y_predicted = np.where(y_predicted > 0.5,1,0)\n",
    "cm = confusion_matrix(Y, y_predicted)\n",
    "sn.heatmap(cm, annot=True, fmt='d')\n",
    "plt.xlabel('Predicted')\n",
    "plt.ylabel('Truth')"
   ]
  }
 ],
 "metadata": {
  "language_info": {
   "name": "python"
  }
 },
 "nbformat": 4,
 "nbformat_minor": 2
}
