{
 "cells": [
  {
   "cell_type": "markdown",
   "metadata": {},
   "source": [
    "patient question , distorted part , dominant distortion , secondary distortion , therapist answer\n",
    "\n",
    "- Ca date de intrare avem intrebarea unui pacient pusa unui terapist, si raspunsul acestuia\n",
    "- Ca date de iesire avem partea distorsionata din intrebare si tipul distorsiunii\n",
    "- Scop: Stabilirea distorsiunilor unui individ, bazat pe intrebarea pe care acesta o pune terapeutului\n"
   ]
  },
  {
   "cell_type": "markdown",
   "metadata": {},
   "source": [
    "IDEA\n",
    "\n",
    "maybe do a one-hot of the whole dataset\n",
    "and make that the input (?)\n",
    "\n",
    "gensim word2vec (?)\n"
   ]
  }
 ],
 "metadata": {
  "language_info": {
   "name": "python"
  }
 },
 "nbformat": 4,
 "nbformat_minor": 2
}
