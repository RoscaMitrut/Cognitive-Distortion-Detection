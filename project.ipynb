{
 "cells": [
  {
   "cell_type": "code",
   "execution_count": null,
   "metadata": {},
   "outputs": [],
   "source": [
    "import pandas as pd\n",
    "from sklearn.model_selection import train_test_split\n",
    "import tensorflow as tf\n",
    "import tensorflow_hub as hub\n",
    "import tensorflow_text\n",
    "from matplotlib import pyplot as plt\n",
    "import seaborn as sn\n",
    "from sklearn.metrics import confusion_matrix, classification_report\n",
    "import numpy as np"
   ]
  },
  {
   "cell_type": "code",
   "execution_count": null,
   "metadata": {},
   "outputs": [],
   "source": [
    "therapis_responses = pd.read_csv(\"data/Therapist_responses.csv\",delimiter=\",\")\n",
    "annotated_data = pd.read_csv(\"data/Annotated_data.csv\",delimiter=\",\")\n",
    "annotated_data_copy = pd.read_csv(\"data/Annotated_data.csv\",delimiter=\",\")\n",
    "merged_data = pd.merge(therapis_responses,annotated_data,on='Id_Number')"
   ]
  },
  {
   "cell_type": "code",
   "execution_count": null,
   "metadata": {},
   "outputs": [],
   "source": [
    "def label_distorsion_binary(row):\n",
    "    if row[\"Dominant Distortion\"] == \"No Distortion\":\n",
    "        return 0\n",
    "    return 1\n",
    "\n",
    "annotated_data_copy[\"Distortion\"] = annotated_data_copy.apply(label_distorsion_binary, axis=1)\n",
    "annotated_data_copy = annotated_data_copy.drop(['Distorted part','Dominant Distortion','Secondary Distortion (Optional)'],axis=1)"
   ]
  },
  {
   "cell_type": "code",
   "execution_count": null,
   "metadata": {},
   "outputs": [],
   "source": [
    "annotated_data_copy.groupby(\"Distortion\").describe()"
   ]
  },
  {
   "cell_type": "code",
   "execution_count": null,
   "metadata": {},
   "outputs": [],
   "source": [
    "X_train, X_test, Y_train, Y_test = train_test_split(annotated_data_copy[\"Patient Question\"], annotated_data_copy[\"Distortion\"])"
   ]
  },
  {
   "cell_type": "code",
   "execution_count": null,
   "metadata": {},
   "outputs": [],
   "source": [
    "preprocess_link = \"https://kaggle.com/models/tensorflow/bert/TensorFlow2/en-uncased-preprocess/3\"\n",
    "encoder_link = \"https://www.kaggle.com/models/tensorflow/bert/TensorFlow2/en-uncased-l-12-h-768-a-12/4\"\n",
    "\n",
    "preprocessor = hub.KerasLayer(preprocess_link)\n",
    "encoder = hub.KerasLayer(encoder_link)"
   ]
  },
  {
   "cell_type": "code",
   "execution_count": null,
   "metadata": {},
   "outputs": [],
   "source": [
    "def get_embedings_sentences(sentences):\n",
    "\tpreprocessed_text = preprocessor(sentences)\n",
    "\treturn encoder(preprocessed_text)[\"pooled_output\"]\n",
    "\t#return encoder(preprocessed_text)[\"sequence_output\"]\n",
    " \n",
    "get_embedings_sentences([\"Hello fellow humans!\"]) "
   ]
  },
  {
   "cell_type": "code",
   "execution_count": null,
   "metadata": {},
   "outputs": [],
   "source": [
    "\n",
    "#BERT\n",
    "text_input = tf.keras.layers.Input(shape=(),dtype=tf.string,name=\"text\")\n",
    "preprocessed_text = preprocessor(text_input)\n",
    "outputs = encoder(preprocessed_text)\n",
    "#NN\n",
    "layer = tf.keras.layers.Dropout(0.05,name=\"dropout\")(outputs[\"pooled_output\"])\n",
    "layer = tf.keras.layers.Dense(1,activation=\"sigmoid\",name=\"output\")(layer)\n",
    "#Model\n",
    "model = tf.keras.Model(inputs=[text_input],outputs=[layer])\n",
    "\n",
    "model.summary()"
   ]
  },
  {
   "cell_type": "code",
   "execution_count": null,
   "metadata": {},
   "outputs": [],
   "source": [
    "METRICS = [\n",
    "\ttf.keras.metrics.BinaryAccuracy(name=\"accuracy\"),\n",
    "    tf.keras.metrics.Precision(name='precision'),\n",
    "    tf.keras.metrics.Recall(name='recall')\n",
    "]\n",
    "\n",
    "model.compile(optimizer=\"adam\",\n",
    "              loss=\"binary_crossentropy\",\n",
    "              metrics=METRICS)"
   ]
  },
  {
   "cell_type": "code",
   "execution_count": null,
   "metadata": {},
   "outputs": [],
   "source": [
    "#history = model.fit(X_train,Y_train,epochs=25)\n",
    "history = model.fit(X_train,Y_train,validation_data=(X_test,Y_test),epochs=5)\n"
   ]
  },
  {
   "cell_type": "code",
   "execution_count": null,
   "metadata": {},
   "outputs": [],
   "source": [
    "import seaborn as sns\n",
    "import matplotlib.pyplot as plt\n",
    "%matplotlib inline\n",
    "sns.set()\n",
    " \n",
    "acc = history.history['accuracy']\n",
    "val = history.history['val_accuracy']\n",
    "loss = history.history['loss']\n",
    "val_loss = history.history['val_loss']\n",
    "\n",
    "epochs = range(1, len(acc) + 1)\n",
    " \n",
    "plt.plot(epochs, acc, '-', label='Training accuracy')\n",
    "plt.plot(epochs, val, '-', label='Validation accuracy')\n",
    "plt.plot(epochs,loss,':',label=\"Training loss\")\n",
    "plt.plot(epochs,val_loss,':',label=\"Validation loss\")\n",
    "plt.title('Training and Validation Accuracy/Loss')\n",
    "plt.xlabel('Epoch')\n",
    "plt.legend(loc='lower right')\n",
    "plt.plot()"
   ]
  },
  {
   "cell_type": "code",
   "execution_count": null,
   "metadata": {},
   "outputs": [],
   "source": [
    "loss, = plt.plot(history.history['loss'], label = 'loss')\n",
    "acc, = plt.plot(history.history['accuracy'], label = 'acc')\n",
    "plt.legend([loss,acc], ['Train Loss', 'Train Acc'])\n",
    "plt.xlabel('Batch #')\n",
    "plt.ylabel('Loss & acc')"
   ]
  },
  {
   "cell_type": "code",
   "execution_count": null,
   "metadata": {},
   "outputs": [],
   "source": [
    "model.evaluate(X_test,Y_test)"
   ]
  },
  {
   "cell_type": "code",
   "execution_count": null,
   "metadata": {},
   "outputs": [],
   "source": [
    "y_predicted = model.predict(X_test)\n",
    "y_predicted = y_predicted.flatten()\n",
    "y_predicted = np.where(y_predicted > 0.5,1,0)\n",
    "cm = confusion_matrix(Y_test, y_predicted)\n",
    "sn.heatmap(cm, annot=True, fmt='d')\n",
    "plt.xlabel('Predicted')\n",
    "plt.ylabel('Truth')"
   ]
  }
 ],
 "metadata": {
  "kernelspec": {
   "display_name": "Python 3",
   "language": "python",
   "name": "python3"
  },
  "language_info": {
   "codemirror_mode": {
    "name": "ipython",
    "version": 3
   },
   "file_extension": ".py",
   "mimetype": "text/x-python",
   "name": "python",
   "nbconvert_exporter": "python",
   "pygments_lexer": "ipython3",
   "version": "3.9.19"
  }
 },
 "nbformat": 4,
 "nbformat_minor": 2
}
